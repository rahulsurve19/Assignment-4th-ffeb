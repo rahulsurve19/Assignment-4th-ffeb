{
 "cells": [
  {
   "cell_type": "code",
   "execution_count": 1,
   "id": "e9533e83-c34a-4248-837d-ff818c43d3bc",
   "metadata": {},
   "outputs": [],
   "source": [
    "#The keyword used to create a function in Python is \"def\".\n",
    "def get_odd_numbers():\n",
    "    odd_numbers = []\n",
    "    for i in range(1, 26):\n",
    "        if i % 2 != 0:\n",
    "            odd_numbers.append(i)\n",
    "    return odd_numbers"
   ]
  },
  {
   "cell_type": "code",
   "execution_count": 5,
   "id": "b6386e70-8e34-4403-8415-750df0ed1039",
   "metadata": {},
   "outputs": [
    {
     "data": {
      "text/plain": [
       "[1, 3, 5, 7, 9, 11, 13, 15, 17, 19, 21, 23, 25]"
      ]
     },
     "execution_count": 5,
     "metadata": {},
     "output_type": "execute_result"
    }
   ],
   "source": [
    "get_odd_numbers()"
   ]
  },
  {
   "cell_type": "code",
   "execution_count": 7,
   "id": "cb4542b6-ad45-46e4-88b3-f648079b623e",
   "metadata": {},
   "outputs": [
    {
     "name": "stdout",
     "output_type": "stream",
     "text": [
      "6\n",
      "15\n"
     ]
    },
    {
     "data": {
      "text/plain": [
       "'In this example, the function sum_of_numbers accepts an arbitrary number of positional arguments using *args. The function then iterates over all the arguments, adding them to a running total, and returns the sum.'"
      ]
     },
     "execution_count": 7,
     "metadata": {},
     "output_type": "execute_result"
    }
   ],
   "source": [
    "\"\"\"The *args and **kwargs are used in Python functions to allow the function to accept an arbitrary number of arguments and/or keyword arguments respectively.\"\"\"\n",
    "#Example of using *args:\n",
    "def sum_of_numbers(*args):\n",
    "    sum = 0\n",
    "    for num in args:\n",
    "        sum += num\n",
    "    return sum\n",
    "\n",
    "print(sum_of_numbers(1, 2, 3))\n",
    "print(sum_of_numbers(1, 2, 3, 4, 5))\n",
    "\"\"\"In this example, the function sum_of_numbers accepts an arbitrary number of positional arguments using *args. The function then iterates over all the arguments, adding them to a running total, and returns the sum.\"\"\"\n"
   ]
  },
  {
   "cell_type": "code",
   "execution_count": 8,
   "id": "e1802dae-8f51-4b02-818a-08ce9bb4dc09",
   "metadata": {},
   "outputs": [
    {
     "name": "stdout",
     "output_type": "stream",
     "text": [
      "a = 1\n",
      "b = 2\n",
      "c = 3\n"
     ]
    },
    {
     "data": {
      "text/plain": [
       "'In this example, the function print_kwargs accepts an arbitrary number of keyword arguments using **kwargs. The function then iterates over all the arguments, printing out each key-value pair in the dictionary.'"
      ]
     },
     "execution_count": 8,
     "metadata": {},
     "output_type": "execute_result"
    }
   ],
   "source": [
    "#Example of using **kwargs:\n",
    "def print_kwargs(**kwargs):\n",
    "    for key, value in kwargs.items():\n",
    "        print(f\"{key} = {value}\")\n",
    "\n",
    "print_kwargs(a=1, b=2, c=3)\n",
    "\n",
    "\"\"\"In this example, the function print_kwargs accepts an arbitrary number of keyword arguments using **kwargs. The function then iterates over all the arguments, printing out each key-value pair in the dictionary.\"\"\"\n"
   ]
  },
  {
   "cell_type": "code",
   "execution_count": 9,
   "id": "9e6ebe15-8cd0-4d50-9a13-8008aebd7a7e",
   "metadata": {},
   "outputs": [
    {
     "name": "stdout",
     "output_type": "stream",
     "text": [
      "2\n",
      "4\n",
      "6\n",
      "8\n",
      "10\n"
     ]
    }
   ],
   "source": [
    "\"\"\"An iterator in Python is an object that allows us to traverse through the elements of a collection, such as a list or a tuple, one at a time. It provides a way to access the elements of a collection sequentially without having to know the internal representation of the collection.\n",
    "\n",
    "To initialize an iterator object in Python, we can use the built-in iter() function. To iterate over the elements of an iterator, we can use the next() method.\n",
    "\n",
    "Here's how we can use these methods to print the first five elements of the given list:\"\"\"\n",
    "my_list = [2, 4, 6, 8, 10, 12, 14, 16, 18, 20]\n",
    "my_iter = iter(my_list)\n",
    "for i in range(5):\n",
    "    print(next(my_iter))"
   ]
  },
  {
   "cell_type": "code",
   "execution_count": 11,
   "id": "de754980-ae43-423f-a4f7-d72f16f51adf",
   "metadata": {},
   "outputs": [],
   "source": [
    "\"\"\"A generator function in Python is a special type of function that generates a sequence of values or items, one at a time, using the \"yield\" keyword instead of \"return\". When a generator function is called, it returns a generator object that can be iterated over like any iterable object in Python, such as a list or a tuple.\n",
    "\n",
    "The \"yield\" keyword is used in a generator function to temporarily suspend the execution of the function and \"yield\" the value of the current iteration to the caller. This allows the caller to use the value, and then the generator function can continue where it left off in the next iteration, instead of starting over from the beginning like a regular function with \"return\" would.\"\"\"\n",
    "#Here is an example of a generator function that generates a sequence of even numbers:\n",
    "\n",
    "def generate_even_numbers(n):\n",
    "    i = 0\n",
    "    while i < n:\n",
    "        yield i * 2\n",
    "        i += 1  "
   ]
  },
  {
   "cell_type": "code",
   "execution_count": 14,
   "id": "1806d607-8268-4ca5-9f3e-011c5a2892a2",
   "metadata": {},
   "outputs": [
    {
     "name": "stdout",
     "output_type": "stream",
     "text": [
      "0\n",
      "2\n",
      "4\n",
      "6\n",
      "8\n",
      "10\n",
      "12\n",
      "14\n",
      "16\n",
      "18\n",
      "20\n",
      "22\n",
      "24\n",
      "26\n",
      "28\n"
     ]
    },
    {
     "data": {
      "text/plain": [
       "'In this example, the \"generate_even_numbers\" function uses a \"while\" loop to generate even numbers by multiplying the current iteration by 2 and yielding the result to the caller. The caller can then use the \"for\" loop to iterate over the sequence of even numbers, which are generated one at a time by the \"yield\" statement.'"
      ]
     },
     "execution_count": 14,
     "metadata": {},
     "output_type": "execute_result"
    }
   ],
   "source": [
    "#When this function is called with an integer value, it will return a generator object that can be used to iterate over a sequence of even numbers from 0 up to 2*(n-1).\n",
    "even_numbers = generate_even_numbers(15)\n",
    "for num in even_numbers:\n",
    "    print(num)\n",
    "\n",
    "\"\"\"In this example, the \"generate_even_numbers\" function uses a \"while\" loop to generate even numbers by multiplying the current iteration by 2 and yielding the result to the caller. The caller can then use the \"for\" loop to iterate over the sequence of even numbers, which are generated one at a time by the \"yield\" statement.\"\"\"\n"
   ]
  },
  {
   "cell_type": "code",
   "execution_count": 3,
   "id": "819f5112-4386-4066-8fc9-88eeebc50395",
   "metadata": {},
   "outputs": [],
   "source": [
    "#Here's a generator function in Python that generates prime numbers less than 1000:\n",
    "def primes():\n",
    "    \"\"\"\n",
    "    Generate prime numbers less than 1000\n",
    "    \"\"\"\n",
    "    # Start with the first prime number, 2\n",
    "    num = 2\n",
    "    \n",
    "    while num < 1000:\n",
    "        # Assume num is prime until proven otherwise\n",
    "        is_prime = True\n",
    "        \n",
    "        # Check if num is divisible by any number other than 1 and itself\n",
    "        for i in range(2, num):\n",
    "            if num % i == 0:\n",
    "                is_prime = False\n",
    "                break\n",
    "        \n",
    "        if is_prime:\n",
    "            yield num\n",
    "        \n",
    "        # Move on to the next number\n",
    "        num += 1\n"
   ]
  },
  {
   "cell_type": "code",
   "execution_count": 4,
   "id": "3493e48e-7749-4194-b67d-37ca431b464d",
   "metadata": {},
   "outputs": [
    {
     "name": "stdout",
     "output_type": "stream",
     "text": [
      "2\n",
      "3\n",
      "5\n",
      "7\n",
      "11\n",
      "13\n",
      "17\n",
      "19\n",
      "23\n",
      "29\n",
      "31\n",
      "37\n",
      "41\n",
      "43\n",
      "47\n",
      "53\n",
      "59\n",
      "61\n",
      "67\n",
      "71\n"
     ]
    }
   ],
   "source": [
    "\n",
    "prime_generator = primes()\n",
    "\n",
    "# Generate and print the first 20 prime numbers\n",
    "for i in range(20):\n",
    "    print(next(prime_generator))\n"
   ]
  },
  {
   "cell_type": "code",
   "execution_count": 5,
   "id": "72633a87-98a6-46d7-9fb3-9a994c076535",
   "metadata": {},
   "outputs": [
    {
     "name": "stdout",
     "output_type": "stream",
     "text": [
      "0\n",
      "1\n",
      "1\n",
      "2\n",
      "3\n",
      "5\n",
      "8\n",
      "13\n",
      "21\n",
      "34\n"
     ]
    }
   ],
   "source": [
    "#Python program to print the first 10 Fibonacci numbers using a while loop:\n",
    "# initialize variables\n",
    "a, b = 0, 1\n",
    "count = 0\n",
    "\n",
    "# loop through 10 times\n",
    "while count < 10:\n",
    "    print(a)\n",
    "    c = a + b\n",
    "    a = b\n",
    "    b = c\n",
    "    count += 1\n"
   ]
  },
  {
   "cell_type": "code",
   "execution_count": 8,
   "id": "a4e34393",
   "metadata": {},
   "outputs": [
    {
     "name": "stdout",
     "output_type": "stream",
     "text": [
      "['p', 'w', 's', 'k', 'i', 'l', 'l', 's']\n"
     ]
    }
   ],
   "source": [
    "#Write a List Comprehension to iterate through the given string: ‘pwskills’.\n",
    "l=\"pwskills\"\n",
    "l1=[i for i in l]\n",
    "print(l1)"
   ]
  },
  {
   "cell_type": "code",
   "execution_count": 11,
   "id": "cfbcaa01",
   "metadata": {},
   "outputs": [
    {
     "name": "stdout",
     "output_type": "stream",
     "text": [
      "Enter a number: 121\n",
      "121 is a palindrome number\n"
     ]
    }
   ],
   "source": [
    "#Python program that checks whether a given number is palindrome or not using a while loop:\n",
    "num = int(input(\"Enter a number: \"))\n",
    "temp = num\n",
    "reverse_num = 0\n",
    "\n",
    "while temp > 0:\n",
    "    remainder = temp % 10\n",
    "    reverse_num = (reverse_num * 10) + remainder\n",
    "    temp //= 10\n",
    "\n",
    "if num == reverse_num:\n",
    "    print(num, \"is a palindrome number\")\n",
    "else:\n",
    "    print(num, \"is not a palindrome number\")\n"
   ]
  },
  {
   "cell_type": "code",
   "execution_count": 12,
   "id": "50fa7834",
   "metadata": {},
   "outputs": [
    {
     "name": "stdout",
     "output_type": "stream",
     "text": [
      "[1, 3, 5, 7, 9, 11, 13, 15, 17, 19, 21, 23, 25, 27, 29, 31, 33, 35, 37, 39, 41, 43, 45, 47, 49, 51, 53, 55, 57, 59, 61, 63, 65, 67, 69, 71, 73, 75, 77, 79, 81, 83, 85, 87, 89, 91, 93, 95, 97, 99]\n"
     ]
    }
   ],
   "source": [
    "#Here is the code in Python to print odd numbers from 1 to 100 using list comprehension:\n",
    "odd_numbers = [x for x in range(1, 101) if x % 2 != 0]\n",
    "print(odd_numbers)\n"
   ]
  },
  {
   "cell_type": "code",
   "execution_count": null,
   "id": "fb008958",
   "metadata": {},
   "outputs": [],
   "source": []
  }
 ],
 "metadata": {
  "kernelspec": {
   "display_name": "Python 3 (ipykernel)",
   "language": "python",
   "name": "python3"
  },
  "language_info": {
   "codemirror_mode": {
    "name": "ipython",
    "version": 3
   },
   "file_extension": ".py",
   "mimetype": "text/x-python",
   "name": "python",
   "nbconvert_exporter": "python",
   "pygments_lexer": "ipython3",
   "version": "3.9.7"
  }
 },
 "nbformat": 4,
 "nbformat_minor": 5
}
