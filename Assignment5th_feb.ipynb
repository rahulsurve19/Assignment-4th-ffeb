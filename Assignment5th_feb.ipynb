{
 "cells": [
  {
   "cell_type": "code",
   "execution_count": 2,
   "id": "4e9cccf4-bed4-4236-9be4-1d361404fc0f",
   "metadata": {},
   "outputs": [
    {
     "data": {
      "text/plain": [
       "'In object-oriented programming (OOP), a class is a blueprint or template for creating objects, which defines a set of attributes and behaviors that the objects will have. An object, on the other hand, is an instance of a class, created using the blueprint provided by the class. Objects can interact with each other and with the environment by invoking their methods and accessing their properties.\\n\\nFor example, let\\'s consider a class called \"Car.\" The Car class would define the attributes and behaviors that all Car objects would have, such as the make, model, year, color, and speed. It might also have methods for accelerating, braking, turning, and changing gears.\\n\\nOnce the Car class is defined, we can create individual Car objects by instantiating the class. For instance, we could create a Car object called \"myCar\" with the make \"Toyota,\" the model \"Camry,\" the year \"2022,\" the color \"blue,\" and the speed \"0.\" We could then invoke methods on the myCar object, such as accelerating, braking, and turning. We could also access its properties, such as its speed or color.\\n\\nIn summary, a class is a blueprint or template for creating objects, while an object is an instance of a class with its own set of values for the attributes defined in the class.'"
      ]
     },
     "execution_count": 2,
     "metadata": {},
     "output_type": "execute_result"
    }
   ],
   "source": [
    "#Explain Class and Object with respect to Object-Oriented Programming. Give a suitable example.\n",
    "\n",
    "\n",
    "\"\"\"In object-oriented programming (OOP), a class is a blueprint or template for creating objects, which defines a set of attributes and behaviors that the objects will have. An object, on the other hand, is an instance of a class, created using the blueprint provided by the class. Objects can interact with each other and with the environment by invoking their methods and accessing their properties.\n",
    "\n",
    "For example, let's consider a class called \"Car.\" The Car class would define the attributes and behaviors that all Car objects would have, such as the make, model, year, color, and speed. It might also have methods for accelerating, braking, turning, and changing gears.\n",
    "\n",
    "Once the Car class is defined, we can create individual Car objects by instantiating the class. For instance, we could create a Car object called \"myCar\" with the make \"Toyota,\" the model \"Camry,\" the year \"2022,\" the color \"blue,\" and the speed \"0.\" We could then invoke methods on the myCar object, such as accelerating, braking, and turning. We could also access its properties, such as its speed or color.\n",
    "\n",
    "In summary, a class is a blueprint or template for creating objects, while an object is an instance of a class with its own set of values for the attributes defined in the class.\"\"\"\n"
   ]
  },
  {
   "cell_type": "code",
   "execution_count": 4,
   "id": "537ffec4-f60a-4411-8686-da8f75366468",
   "metadata": {},
   "outputs": [
    {
     "data": {
      "text/plain": [
       "'The four pillars of Object-Oriented Programming (OOP) are:\\n\\nEncapsulation: Encapsulation refers to the concept of bundling data and methods that operate on that data within a single unit, such as a class. This is done to control access to the data, ensuring that it is only accessed and modified in a controlled manner.\\n\\n\\nInheritance: Inheritance allows new classes to be based on existing classes, inheriting their properties and methods. This promotes code reuse, as developers can create new classes by extending existing ones, rather than starting from scratch.\\n\\n\\nPolymorphism: Polymorphism refers to the ability of objects of different classes to be treated as if they are objects of the same class. This allows developers to write code that can operate on multiple objects, even if those objects have different internal structures.\\n\\n\\nAbstraction: Abstraction involves representing complex real-world objects or systems in a simplified, abstract manner. This is done by focusing on the essential features of an object or system, and ignoring or hiding irrelevant details. Abstraction is useful in OOP because it allows developers to create more \\nmodular, maintainable, and scalable code.'"
      ]
     },
     "execution_count": 4,
     "metadata": {},
     "output_type": "execute_result"
    }
   ],
   "source": [
    "\"\"\"The four pillars of Object-Oriented Programming (OOP) are:\n",
    "\n",
    "Encapsulation: Encapsulation refers to the concept of bundling data and methods that operate on that data within a single unit, such as a class. This is done to control access to the data, ensuring that it is only accessed and modified in a controlled manner.\n",
    "\n",
    "\n",
    "Inheritance: Inheritance allows new classes to be based on existing classes, inheriting their properties and methods. This promotes code reuse, as developers can create new classes by extending existing ones, rather than starting from scratch.\n",
    "\n",
    "\n",
    "Polymorphism: Polymorphism refers to the ability of objects of different classes to be treated as if they are objects of the same class. This allows developers to write code that can operate on multiple objects, even if those objects have different internal structures.\n",
    "\n",
    "\n",
    "Abstraction: Abstraction involves representing complex real-world objects or systems in a simplified, abstract manner. This is done by focusing on the essential features of an object or system, and ignoring or hiding irrelevant details. Abstraction is useful in OOP because it allows developers to create more \n",
    "modular, maintainable, and scalable code.\"\"\""
   ]
  },
  {
   "cell_type": "code",
   "execution_count": 7,
   "id": "ccb44ef0-26b7-4193-b24c-ee90987267fd",
   "metadata": {},
   "outputs": [
    {
     "data": {
      "text/plain": [
       "'In Python, __init__() is a special method that is called automatically when an object of a class is created. The purpose of __init__() method is to initialize the attributes of the object.'"
      ]
     },
     "execution_count": 7,
     "metadata": {},
     "output_type": "execute_result"
    }
   ],
   "source": [
    "#Explain why the __init__() function is used. Give a suitable example.\n",
    "\"\"\"In Python, __init__() is a special method that is called automatically when an object of a class is created. The purpose of __init__() method is to initialize the attributes of the object.\"\"\"\n"
   ]
  },
  {
   "cell_type": "code",
   "execution_count": 8,
   "id": "404059ef-254e-4a13-9d7b-bbb4cc528ed2",
   "metadata": {},
   "outputs": [
    {
     "data": {
      "text/plain": [
       "'The __init__() method is used to set up the initial state of an object. When a new object is created, it needs to have some initial values for its attributes. These values can be set using the __init__() method.'"
      ]
     },
     "execution_count": 8,
     "metadata": {},
     "output_type": "execute_result"
    }
   ],
   "source": [
    "\"\"\"The __init__() method is used to set up the initial state of an object. When a new object is created, it needs to have some initial values for its attributes. These values can be set using the __init__() method.\"\"\""
   ]
  },
  {
   "cell_type": "code",
   "execution_count": 9,
   "id": "cc848951-02e8-4321-8444-91d0526b89e0",
   "metadata": {},
   "outputs": [],
   "source": [
    "class Car:\n",
    "    def __init__(self, make, model, year):\n",
    "        self.make = make\n",
    "        self.model = model\n",
    "        self.year = year\n",
    "        self.odometer_reading = 0\n",
    "\n",
    "    def get_descriptive_name(self):\n",
    "        long_name = f\"{self.year} {self.make} {self.model}\"\n",
    "        return long_name.title()\n",
    "\n",
    "    def read_odometer(self):\n",
    "        print(f\"This car has {self.odometer_reading} miles on it.\")\n",
    "\n",
    "    def update_odometer(self, mileage):\n",
    "        if mileage >= self.odometer_reading:\n",
    "            self.odometer_reading = mileage\n",
    "        else:\n",
    "            print(\"You can't roll back an odometer!\")\n",
    "\n",
    "    def increment_odometer(self, miles):\n",
    "        self.odometer_reading += miles\n"
   ]
  },
  {
   "cell_type": "code",
   "execution_count": 10,
   "id": "9630ca52-2316-41f0-ab3c-cface52df47c",
   "metadata": {},
   "outputs": [
    {
     "name": "stdout",
     "output_type": "stream",
     "text": [
      "toyota\n",
      "prius\n",
      "2021\n"
     ]
    }
   ],
   "source": [
    "\"\"\"In this example, we define a class called Car. The __init__() method takes three arguments (make, model, and year) and initializes the corresponding attributes of the object. It also sets the initial value of the odometer_reading attribute to 0.\"\"\"\n",
    "#We can create an instance of the Car class and initialize it as follows:\n",
    "my_car = Car(\"toyota\", \"prius\", 2021)\n",
    "print(my_car.make)\n",
    "print(my_car.model)\n",
    "print(my_car.year)\n"
   ]
  },
  {
   "cell_type": "code",
   "execution_count": 12,
   "id": "46f1151c-6704-4544-a155-25dbd6c03dcc",
   "metadata": {},
   "outputs": [
    {
     "data": {
      "text/plain": [
       "'n Object-Oriented Programming (OOP), the concept of self is used to refer to the instance of the class that a method is being called on. It is a way to refer to the current object and its attributes and methods within the context of a class.\\n\\n\\nIn other words, \"self\" refers to the object itself and allows us to access its attributes and methods. When we create an object of a class, we are creating an instance of that class. Each instance has its own unique set of attributes and methods, and \"self\" is used to distinguish between these instances.\\n\\n\\nFor example, suppose we have a class called \"Person\" with an attribute \"name\" and a method \"introduce_self\". When we create an object of the \"Person\" class and call the \"introduce_self\" method, we want the method to refer to the specific instance of the class that it is being called on. This is where the \"self\" parameter comes in:'"
      ]
     },
     "execution_count": 12,
     "metadata": {},
     "output_type": "execute_result"
    }
   ],
   "source": [
    "\"\"\"n Object-Oriented Programming (OOP), the concept of self is used to refer to the instance of the class that a method is being called on. It is a way to refer to the current object and its attributes and methods within the context of a class.\n",
    "\n",
    "\n",
    "In other words, \"self\" refers to the object itself and allows us to access its attributes and methods. When we create an object of a class, we are creating an instance of that class. Each instance has its own unique set of attributes and methods, and \"self\" is used to distinguish between these instances.\n",
    "\n",
    "\n",
    "For example, suppose we have a class called \"Person\" with an attribute \"name\" and a method \"introduce_self\". When we create an object of the \"Person\" class and call the \"introduce_self\" method, we want the method to refer to the specific instance of the class that it is being called on. This is where the \"self\" parameter comes in:\"\"\""
   ]
  },
  {
   "cell_type": "code",
   "execution_count": 15,
   "id": "dc24860e-dc35-4f16-a04e-e724777489da",
   "metadata": {},
   "outputs": [
    {
     "name": "stdout",
     "output_type": "stream",
     "text": [
      "Hi, my name is Alice\n",
      "Hi, my name is Bob\n"
     ]
    },
    {
     "data": {
      "text/plain": [
       "'In this example, \"self\" refers to the instance of the \"Person\" class that is being used to call the \"introduce_self\" method. By using \"self.name\", we can access the \"name\" attribute of that particular instance.\\n\\nIn summary, \"self\" is used in OOP to refer to the current instance of a class and allows us to access its attributes and methods.'"
      ]
     },
     "execution_count": 15,
     "metadata": {},
     "output_type": "execute_result"
    }
   ],
   "source": [
    "class Person:\n",
    "    def __init__(self, name):\n",
    "        self.name = name\n",
    "\n",
    "    def introduce_self(self):\n",
    "        print(\"Hi, my name is\", self.name)\n",
    "\n",
    "person1 = Person(\"Alice\")\n",
    "person1.introduce_self()\n",
    "\n",
    "person2 = Person(\"Bob\")\n",
    "person2.introduce_self()\n",
    "\n",
    "\"\"\"In this example, \"self\" refers to the instance of the \"Person\" class that is being used to call the \"introduce_self\" method. By using \"self.name\", we can access the \"name\" attribute of that particular instance.\n",
    "\n",
    "In summary, \"self\" is used in OOP to refer to the current instance of a class and allows us to access its attributes and methods.\"\"\""
   ]
  },
  {
   "cell_type": "code",
   "execution_count": 16,
   "id": "cd3e29ec-462e-45ee-bf66-78e266ee5fa5",
   "metadata": {},
   "outputs": [
    {
     "name": "stdout",
     "output_type": "stream",
     "text": [
      "Buddy is eating.\n",
      "Woof!\n"
     ]
    }
   ],
   "source": [
    "#What is inheritance? Give an example for each type of inheritance.\n",
    "\n",
    "\"\"\"Inheritance is a fundamental concept in object-oriented programming that allows creating new classes based on existing ones. Inheritance allows a subclass to inherit properties and behaviors from a superclass, which helps to promote code reuse, reduce code duplication, and make the code more organized and maintainable.\"\"\"\n",
    "\n",
    "#There are four types of inheritance in object-oriented programming:\n",
    "\n",
    "#Single inheritance: A subclass inherits properties and behaviors from a single superclass.\n",
    "\n",
    "class Animal:\n",
    "    def __init__(self, name):\n",
    "        self.name = name\n",
    "\n",
    "    def eat(self):\n",
    "        print(f\"{self.name} is eating.\")\n",
    "\n",
    "class Dog(Animal):\n",
    "    def bark(self):\n",
    "        print(\"Woof!\")\n",
    "\n",
    "dog = Dog(\"Buddy\")\n",
    "dog.eat()  # Output: \"Buddy is eating.\"\n",
    "dog.bark() # Output: \"Woof!\"\n"
   ]
  },
  {
   "cell_type": "code",
   "execution_count": 17,
   "id": "a6f84ec1-ce54-4698-abee-9390bf91a3b4",
   "metadata": {},
   "outputs": [
    {
     "name": "stdout",
     "output_type": "stream",
     "text": [
      "Buddy is eating.\n",
      "Buddy is drinking milk.\n",
      "Woof!\n"
     ]
    }
   ],
   "source": [
    "#Multilevel inheritance: A subclass inherits properties and behaviors from a superclass, which in turn inherits from another superclass.\n",
    "class Animal:\n",
    "    def __init__(self, name):\n",
    "        self.name = name\n",
    "\n",
    "    def eat(self):\n",
    "        print(f\"{self.name} is eating.\")\n",
    "\n",
    "class Mammal(Animal):\n",
    "    def drink_milk(self):\n",
    "        print(f\"{self.name} is drinking milk.\")\n",
    "\n",
    "class Dog(Mammal):\n",
    "    def bark(self):\n",
    "        print(\"Woof!\")\n",
    "\n",
    "dog = Dog(\"Buddy\")\n",
    "dog.eat()        # Output: \"Buddy is eating.\"\n",
    "dog.drink_milk() # Output: \"Buddy is drinking milk.\"\n",
    "dog.bark()       # Output: \"Woof!\"\n"
   ]
  },
  {
   "cell_type": "code",
   "execution_count": 18,
   "id": "bc87e94d-cecf-4d2c-81a3-bf716d5b5197",
   "metadata": {},
   "outputs": [
    {
     "name": "stdout",
     "output_type": "stream",
     "text": [
      "Buddy is eating.\n",
      "Playing...\n",
      "Woof!\n"
     ]
    }
   ],
   "source": [
    "#Multiple inheritance: A subclass inherits properties and behaviors from multiple superclasses.\n",
    "class Animal:\n",
    "    def __init__(self, name):\n",
    "        self.name = name\n",
    "\n",
    "    def eat(self):\n",
    "        print(f\"{self.name} is eating.\")\n",
    "\n",
    "class Pet:\n",
    "    def play(self):\n",
    "        print(\"Playing...\")\n",
    "\n",
    "class Dog(Animal, Pet):\n",
    "    def bark(self):\n",
    "        print(\"Woof!\")\n",
    "\n",
    "dog = Dog(\"Buddy\")\n",
    "dog.eat()   # Output: \"Buddy is eating.\"\n",
    "dog.play()  # Output: \"Playing...\"\n",
    "dog.bark()  # Output: \"Woof!\"\n"
   ]
  },
  {
   "cell_type": "code",
   "execution_count": null,
   "id": "59d1b042-22a1-4247-80e9-acf898d780bf",
   "metadata": {},
   "outputs": [],
   "source": [
    "#Hierarchical inheritance: Multiple subclasses inherit properties and behaviors from a single superclass.\n",
    "\n",
    "class Animal:\n",
    "    def __init__(self, name):\n",
    "        self.name = name\n",
    "\n",
    "    def eat(self):\n",
    "        print(f\"{self.name} is eating.\")\n",
    "\n",
    "class Dog(Animal):\n",
    "    def bark(self):\n",
    "        print(\"Woof!\")\n",
    "\n",
    "class Cat(Animal):\n",
    "    def meow(self):\n",
    "        print(\"Meow!\")\n",
    "\n",
    "dog = Dog(\"Buddy\")\n",
    "cat = Cat(\"Fluffy\")\n",
    "dog.eat() # Output: \"Buddy is eating.\"\n",
    "dog.bark() # Output: \"Woof!\"\n",
    "cat.eat() # Output: \"Fluffy is eating.\"\n",
    "cat.meow() # Output: \"Meow!\"\n"
   ]
  }
 ],
 "metadata": {
  "kernelspec": {
   "display_name": "Python 3 (ipykernel)",
   "language": "python",
   "name": "python3"
  },
  "language_info": {
   "codemirror_mode": {
    "name": "ipython",
    "version": 3
   },
   "file_extension": ".py",
   "mimetype": "text/x-python",
   "name": "python",
   "nbconvert_exporter": "python",
   "pygments_lexer": "ipython3",
   "version": "3.10.8"
  }
 },
 "nbformat": 4,
 "nbformat_minor": 5
}
